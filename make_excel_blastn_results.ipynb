{
 "cells": [
  {
   "cell_type": "code",
   "execution_count": 1,
   "metadata": {
    "collapsed": true
   },
   "outputs": [],
   "source": [
    "# Make an excel spreadsheet of the BLASTN outputs\n",
    "import pandas as pd\n",
    "from collections import OrderedDict"
   ]
  },
  {
   "cell_type": "code",
   "execution_count": 2,
   "metadata": {
    "collapsed": true
   },
   "outputs": [],
   "source": [
    "infiles = ['Bjuncea_incRNAs_20170726.txt.out',\n",
    "           'Bjuncea_NATs_20170726.txt.out',\n",
    "           'Bjuncea_lincRNAs_20170726.txt.out',\n",
    "           'Bjuncea_putative_mRNAs_20170726.txt.out',\n",
    "           'Bnapus_incRNAs_20170726.txt.out',\n",
    "           'Bnapus_NATs_20170726.txt.out',\n",
    "           'Bnapus_lincRNAs_20170726.txt.out',\n",
    "           'Bnapus_putative_mRNAs_20170726.txt.out',\n",
    "           'Bnigra_incRNAs_20170726.txt.out',\n",
    "           'Bnigra_NATs_20170726.txt.out',\n",
    "           'Bnigra_lincRNAs_20170726.txt.out',\n",
    "           'Bnigra_putative_mRNAs_20170726.txt.out',\n",
    "           'Boleracea_incRNAs_20170726.txt.out',\n",
    "           'Boleracea_NATs_20170726.txt.out',\n",
    "           'Boleracea_lincRNAs_20170726.txt.out',\n",
    "           'Boleracea_putative_mRNAs_20170726.txt.out']"
   ]
  },
  {
   "cell_type": "code",
   "execution_count": 3,
   "metadata": {
    "collapsed": true
   },
   "outputs": [],
   "source": [
    "tables = OrderedDict()\n",
    "for infile in infiles:\n",
    "    tables[infile] = pd.read_table(infile, sep='\\t', header=None)"
   ]
  },
  {
   "cell_type": "code",
   "execution_count": 4,
   "metadata": {
    "collapsed": false
   },
   "outputs": [],
   "source": [
    "for key in tables:\n",
    "    tables[key] = tables[key].rename(index = str, columns={0: 'query acc.ver',\n",
    "                                                           1: 'subject acc.ver',\n",
    "                                                           2: '% identity',\n",
    "                                                           3: 'alignment length',\n",
    "                                                           4: 'mismatches',\n",
    "                                                           5: 'gap opens',\n",
    "                                                           6: 'q. start',\n",
    "                                                           7: 'q. end',\n",
    "                                                           8: 's. start',\n",
    "                                                           9: 's. end',\n",
    "                                                           10: 'evalue',\n",
    "                                                           11: 'bit score'})"
   ]
  },
  {
   "cell_type": "code",
   "execution_count": 5,
   "metadata": {
    "collapsed": false
   },
   "outputs": [],
   "source": [
    "writer = pd.ExcelWriter(path='lncRNA_blastn_results.xlsx')\n",
    "for key in tables:\n",
    "    tabname = ' '.join(key.split('_')[0:2])\n",
    "    tables[key].to_excel(writer, sheet_name=tabname, index=False)\n",
    "writer.save()"
   ]
  }
 ],
 "metadata": {
  "kernelspec": {
   "display_name": "Python 3",
   "language": "python",
   "name": "python3"
  },
  "language_info": {
   "codemirror_mode": {
    "name": "ipython",
    "version": 3
   },
   "file_extension": ".py",
   "mimetype": "text/x-python",
   "name": "python",
   "nbconvert_exporter": "python",
   "pygments_lexer": "ipython3",
   "version": "3.6.0"
  }
 },
 "nbformat": 4,
 "nbformat_minor": 2
}
