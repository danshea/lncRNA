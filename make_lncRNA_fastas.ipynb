{
 "cells": [
  {
   "cell_type": "code",
   "execution_count": 1,
   "metadata": {
    "collapsed": true
   },
   "outputs": [],
   "source": [
    "from Bio import SeqIO"
   ]
  },
  {
   "cell_type": "code",
   "execution_count": 2,
   "metadata": {
    "collapsed": true
   },
   "outputs": [],
   "source": [
    "infiles = ['putative_incRNA_major_iso_id.txt',\n",
    "           'putative_lincRNA_major_iso_id.txt',\n",
    "           'putative_mRNA_major_iso_id.txt',\n",
    "           'putative_NAT_major_iso_id.txt']"
   ]
  },
  {
   "cell_type": "code",
   "execution_count": 4,
   "metadata": {
    "collapsed": true
   },
   "outputs": [],
   "source": [
    "transcript_file = 'transcripts.20170727.fasta'"
   ]
  },
  {
   "cell_type": "code",
   "execution_count": 5,
   "metadata": {
    "collapsed": true
   },
   "outputs": [],
   "source": [
    "transcripts = list()\n",
    "for seq in SeqIO.parse(transcript_file, format='fasta'):\n",
    "    transcripts.append(seq)"
   ]
  },
  {
   "cell_type": "code",
   "execution_count": 7,
   "metadata": {
    "collapsed": false
   },
   "outputs": [],
   "source": [
    "from collections import OrderedDict"
   ]
  },
  {
   "cell_type": "code",
   "execution_count": 8,
   "metadata": {
    "collapsed": true
   },
   "outputs": [],
   "source": [
    "lncRNA = OrderedDict()\n",
    "for infile in infiles:\n",
    "    lncRNA[infile] = list()\n",
    "    with open(infile, 'r') as fh:\n",
    "        for line in fh:\n",
    "            line = line.strip()\n",
    "            lncRNA[infile].append(line)"
   ]
  },
  {
   "cell_type": "code",
   "execution_count": 9,
   "metadata": {
    "collapsed": true
   },
   "outputs": [],
   "source": [
    "for infile in infiles:\n",
    "    outfile = infile.split('.')[0] + '.fasta'\n",
    "    result = list()\n",
    "    for transcript_id in lncRNA[infile]:\n",
    "        for transcript in transcripts:\n",
    "            if transcript_id == transcript.id:\n",
    "                result.append(transcript)\n",
    "    SeqIO.write(result, outfile, format='fasta')"
   ]
  },
  {
   "cell_type": "code",
   "execution_count": null,
   "metadata": {
    "collapsed": true
   },
   "outputs": [],
   "source": []
  }
 ],
 "metadata": {
  "kernelspec": {
   "display_name": "Python 3",
   "language": "python",
   "name": "python3"
  },
  "language_info": {
   "codemirror_mode": {
    "name": "ipython",
    "version": 3
   },
   "file_extension": ".py",
   "mimetype": "text/x-python",
   "name": "python",
   "nbconvert_exporter": "python",
   "pygments_lexer": "ipython3",
   "version": "3.6.0"
  }
 },
 "nbformat": 4,
 "nbformat_minor": 2
}
