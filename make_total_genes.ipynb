{
 "cells": [
  {
   "cell_type": "code",
   "execution_count": 1,
   "metadata": {
    "collapsed": true
   },
   "outputs": [],
   "source": [
    "# Let's import some of the packages we will require for this analysis\n",
    "import pandas as pd\n",
    "from Bio import SeqIO"
   ]
  },
  {
   "cell_type": "code",
   "execution_count": 2,
   "metadata": {
    "collapsed": true
   },
   "outputs": [],
   "source": [
    "# Define the input files we want to load in as pandas data frames\n",
    "gene_exp_file = 'gene_exp.diff'\n",
    "tmap_file     = 'merged.stringtie_merged.gtf.tmap'"
   ]
  },
  {
   "cell_type": "code",
   "execution_count": 3,
   "metadata": {
    "collapsed": true
   },
   "outputs": [],
   "source": [
    "# Load the files as pandas data frames\n",
    "gene_exp = pd.read_table(gene_exp_file)\n",
    "tmap     = pd.read_table(tmap_file)"
   ]
  },
  {
   "cell_type": "code",
   "execution_count": 4,
   "metadata": {
    "collapsed": true
   },
   "outputs": [],
   "source": [
    "# First we want to acquire all entries in gene_exp that NOT mapped to '-'\n",
    "gene = gene_exp[gene_exp.gene != '-']"
   ]
  },
  {
   "cell_type": "code",
   "execution_count": 5,
   "metadata": {
    "collapsed": true
   },
   "outputs": [],
   "source": [
    "# We only want genes that we saw, not everything in the annotation\n",
    "gene = gene[gene.status == \"OK\"]"
   ]
  },
  {
   "cell_type": "code",
   "execution_count": 6,
   "metadata": {
    "collapsed": false
   },
   "outputs": [],
   "source": [
    "# We also remove conjugated genes\n",
    "gene = gene[~gene.gene.str.contains(',')]"
   ]
  },
  {
   "cell_type": "code",
   "execution_count": 7,
   "metadata": {
    "collapsed": true
   },
   "outputs": [],
   "source": [
    "# Then, we want to find out the class_code assigned to those transcripts.\n",
    "gene_complete = pd.merge(gene, tmap, left_on='gene', right_on='qry_gene_id')"
   ]
  },
  {
   "cell_type": "code",
   "execution_count": 8,
   "metadata": {
    "collapsed": false
   },
   "outputs": [],
   "source": [
    "# Now we output this to excel\n",
    "writer = pd.ExcelWriter('Total_genes.xlsx')\n",
    "gene_complete.to_excel(writer, 'Total genes')\n",
    "writer.save()"
   ]
  }
 ],
 "metadata": {
  "kernelspec": {
   "display_name": "Python 3",
   "language": "python",
   "name": "python3"
  },
  "language_info": {
   "codemirror_mode": {
    "name": "ipython",
    "version": 3
   },
   "file_extension": ".py",
   "mimetype": "text/x-python",
   "name": "python",
   "nbconvert_exporter": "python",
   "pygments_lexer": "ipython3",
   "version": "3.6.0"
  }
 },
 "nbformat": 4,
 "nbformat_minor": 2
}
